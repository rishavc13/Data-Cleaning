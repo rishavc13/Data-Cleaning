{
 "cells": [
  {
   "cell_type": "code",
   "execution_count": null,
   "metadata": {},
   "outputs": [],
   "source": [
    "# Importing required modules\n",
    "import pandas as pd\n",
    "import numpy as np\n",
    "\n",
    "# Reading the csv file into a Pandas Dataframe\n",
    "df=pd.read_csv('BL-Flickr-Images-Book.csv')\n",
    "\n",
    "# Getting information about the dataset\n",
    "print(df.info())\n",
    "\n",
    "# Printing top 10 entries of the dataframe\n",
    "print(df.head())\n",
    "\n",
    "# Dropping unnecessary columns which do not give information about the book itself\n",
    "drop=['Edition Statement','Corporate Author','Corporate Contributors','Former owner','Engraver','Issuance type','Shelfmarks','Contributors']\n",
    "df.drop(drop,inplace=True,axis=1)\n",
    "\n",
    "# Checking the new shape of the dataframe\n",
    "print(df.shape)\n",
    "\n",
    "# Checking if 'Identifier' column has unique values\n",
    "df['Identifier'].is_unique\n",
    "\n",
    "# Making 'Identifier' as the new index of the dataframe\n",
    "df = df.set_index('Identifier')\n",
    "\n",
    "# Setting the values in 'Date of Publication' column in uniform format using Regular Expression\n",
    "extr=df['Date of Publication'].str.extract(r'^(\\d{4})', expand=False)\n",
    "print(extr.loc[1905:].head(20))\n",
    "\n",
    "# Converting the type of 'Date of Publication' from object to numeric type\n",
    "df['Date of Publication']=pd.to_numeric(extr)\n",
    "print(df['Date of Publication'].dtype)\n",
    "\n",
    "# Checking the percentage of null values in the 'Date of Publication' column\n",
    "df['Date of Publication'].isnull().sum()/len(df)\n",
    "\n",
    "# Now cleaning the 'Place of Publication' column by removind hyphens and extra word contained in the value\n",
    "london=df['Place of Publication'].str.contains('London')\n",
    "oxford=df['Place of Publication'].str.contains('Oxford')\n",
    "df['Place of Publication']=np.where(london,'London',np.where(oxford,'Oxford',df['Place of Publication'].str.replace('-',' ')))\n",
    "print(df['Place of Publication'])\n",
    "\n",
    "# Converting the 'Place of Publication' into Categorical type\n",
    "df['Place of Publication']=pd.Categorical(df['Place of Publication'])\n",
    "\n",
    "print(df)"
   ]
  }
 ],
 "metadata": {
  "kernelspec": {
   "display_name": "Python 3",
   "language": "python",
   "name": "python3"
  },
  "language_info": {
   "codemirror_mode": {
    "name": "ipython",
    "version": 3
   },
   "file_extension": ".py",
   "mimetype": "text/x-python",
   "name": "python",
   "nbconvert_exporter": "python",
   "pygments_lexer": "ipython3",
   "version": "3.5.2"
  }
 },
 "nbformat": 4,
 "nbformat_minor": 2
}
